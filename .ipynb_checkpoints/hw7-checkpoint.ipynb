{
 "cells": [
  {
   "cell_type": "code",
   "execution_count": 1,
   "metadata": {},
   "outputs": [],
   "source": [
    "import numpy as np\n",
    "import matplotlib.pyplot as plt\n",
    "import statistics"
   ]
  },
  {
   "cell_type": "markdown",
   "metadata": {},
   "source": [
    "**Уровень 0**\n",
    "\n",
    "**Задание 1**\n",
    "\n",
    "Монетку подбрасывают 15 раз, найдите вероятность выпадения простого числа орлов (решение на бумажке и на python)."
   ]
  },
  {
   "cell_type": "code",
   "execution_count": 2,
   "metadata": {},
   "outputs": [],
   "source": [
    "success = [2, 3, 5, 7, 11, 13] # искомые успехи (кол-во испытаний с орлом, которое является простым числом)\n",
    "p = 0.5 # вероятность выпадения орла в одном испытании\n",
    "q = 0.5 # вероятность выпадения решки в одном испытании\n",
    "n = 15 # количество испытаний"
   ]
  },
  {
   "cell_type": "code",
   "execution_count": 3,
   "metadata": {},
   "outputs": [],
   "source": [
    "def factorial(n):\n",
    "    i = 1\n",
    "    f = 1\n",
    "    while i <= n:\n",
    "        f = f * i\n",
    "        i += 1\n",
    "    return f"
   ]
  },
  {
   "cell_type": "code",
   "execution_count": 4,
   "metadata": {},
   "outputs": [],
   "source": [
    "def binominal_prob(n, k, p):\n",
    "    probability = (p**k) * ((1 - p)**(n-k)) * (factorial(n)/(factorial(k)*factorial(n-k)))\n",
    "    return probability"
   ]
  },
  {
   "cell_type": "code",
   "execution_count": 5,
   "metadata": {},
   "outputs": [
    {
     "name": "stdout",
     "output_type": "stream",
     "text": [
      "вероятность выбросить орел простое число раз равна: 0.35\n"
     ]
    }
   ],
   "source": [
    "results = []\n",
    "for k in success:\n",
    "    results.append(binominal_prob(n, k, p))\n",
    "print('вероятность выбросить орел простое число раз равна:', '{:.2f}'.format(sum(results)))"
   ]
  },
  {
   "cell_type": "code",
   "execution_count": 6,
   "metadata": {},
   "outputs": [
    {
     "name": "stdout",
     "output_type": "stream",
     "text": [
      "вероятность выбросить орел простое число раз равна: 0.35\n"
     ]
    }
   ],
   "source": [
    "from scipy.stats import *\n",
    "res = 0\n",
    "for k in success:\n",
    "    res += binom.pmf(k, n, p)\n",
    "print('вероятность выбросить орел простое число раз равна:', '{:.2f}'.format(res))"
   ]
  },
  {
   "cell_type": "markdown",
   "metadata": {},
   "source": [
    "**Задание 2**\n",
    "\n",
    "Создайте свою дискретную случайную величину с не менее, чем 10 значениями. Просемплируйте 1000 случайных значений, постройте гистограмму плотности распределения по выборке, посчитайте среднее, дисперсию и медиану."
   ]
  },
  {
   "cell_type": "code",
   "execution_count": 7,
   "metadata": {},
   "outputs": [],
   "source": [
    "# Случайная величина - оценки за курсовую работу по десятибалльной системе\n",
    "score = np.arange(1, 11, 1)"
   ]
  },
  {
   "cell_type": "code",
   "execution_count": 8,
   "metadata": {},
   "outputs": [
    {
     "data": {
      "text/plain": [
       "8"
      ]
     },
     "execution_count": 8,
     "metadata": {},
     "output_type": "execute_result"
    }
   ],
   "source": [
    "import random\n",
    "from numpy.random import choice\n",
    "choice(score)"
   ]
  },
  {
   "cell_type": "code",
   "execution_count": 9,
   "metadata": {},
   "outputs": [],
   "source": [
    "score_dict = {}\n",
    "results_list = []\n",
    "for i in range(1000):\n",
    "    x = choice(score)\n",
    "    results_list.append(x)\n",
    "    if x in score_dict.keys():\n",
    "        score_dict[x] += 1\n",
    "    else:\n",
    "        score_dict[x] = 1"
   ]
  },
  {
   "cell_type": "code",
   "execution_count": 10,
   "metadata": {},
   "outputs": [
    {
     "data": {
      "text/plain": [
       "[(1, 110),\n",
       " (2, 109),\n",
       " (3, 108),\n",
       " (4, 92),\n",
       " (5, 74),\n",
       " (6, 103),\n",
       " (7, 99),\n",
       " (8, 111),\n",
       " (9, 106),\n",
       " (10, 88)]"
      ]
     },
     "execution_count": 10,
     "metadata": {},
     "output_type": "execute_result"
    }
   ],
   "source": [
    "sorted(score_dict.items())"
   ]
  },
  {
   "cell_type": "code",
   "execution_count": 11,
   "metadata": {},
   "outputs": [
    {
     "data": {
      "image/png": "[encoded data removed]",
      "text/plain": [
       "<Figure size 432x288 with 1 Axes>"
      ]
     },
     "metadata": {
      "needs_background": "light"
     },
     "output_type": "display_data"
    }
   ],
   "source": [
    "import seaborn as sns\n",
    "data = binom.rvs(n=10, p=0.5, size=1000)\n",
    "sns.distplot(data)\n",
    "plt.show()"
   ]
  },
  {
   "cell_type": "code",
   "execution_count": 12,
   "metadata": {},
   "outputs": [
    {
     "name": "stdout",
     "output_type": "stream",
     "text": [
      "среднее: 5.00\n",
      "дисперсия: 2.50\n",
      "медиана: 5.00\n"
     ]
    }
   ],
   "source": [
    "print('среднее:', '{:.2f}'.format(binom.stats(n=10, p=0.5)[0]))\n",
    "print('дисперсия:', '{:.2f}'.format(binom.stats(n=10, p=0.5)[1]))\n",
    "print('медиана:', '{:.2f}'.format(binom.median(n=10, p=0.5)))"
   ]
  },
  {
   "cell_type": "markdown",
   "metadata": {},
   "source": [
    "**Уровень 1**\n",
    "\n",
    "**Задание 3**\n",
    "\n",
    "Задача про 3 монеты.\n",
    "Пусть брошены 3 уравновешенные монеты.\n",
    "Рассмотрим 3 события:\n",
    "\n",
    "A1 - монеты 1 и 2 упали одной и той же стороной,\n",
    "A2 - монеты 2 и 3 упали одной и той же стороной,\n",
    "A3 - монеты 1 и 3 упали одной и той же стороной.\n",
    "\n",
    "Покажите, почему эти 3 события (A1, A2, A3) являются попарно независимыми, но не являются независимыми в совокупности."
   ]
  },
  {
   "cell_type": "code",
   "execution_count": 20,
   "metadata": {},
   "outputs": [],
   "source": [
    "# при подбрасывании трех монет есть 8 вероятных исходов (8 исходов - полная группа)\n",
    "pA1 = 4 / 8 # вероятность события A1 \n",
    "pA2 = 4 / 8 # вероятность события A2 \n",
    "pA3 = 4 / 8 # вероятность события A3 "
   ]
  },
  {
   "cell_type": "code",
   "execution_count": 21,
   "metadata": {},
   "outputs": [
    {
     "data": {
      "text/plain": [
       "0.25"
      ]
     },
     "execution_count": 21,
     "metadata": {},
     "output_type": "execute_result"
    }
   ],
   "source": [
    "# вероятность события и А1, и А2 как произведение вероятностей события\n",
    "pA1A2 = pA1 * pA2\n",
    "pA1A2"
   ]
  },
  {
   "cell_type": "code",
   "execution_count": 22,
   "metadata": {},
   "outputs": [
    {
     "data": {
      "text/plain": [
       "0.25"
      ]
     },
     "execution_count": 22,
     "metadata": {},
     "output_type": "execute_result"
    }
   ],
   "source": [
    "# вероятность события и А1, и А2 как частное от деления успехова на количество возможных исходов\n",
    "pA1A2_2 = (2)/(8)\n",
    "pA1A2_2"
   ]
  },
  {
   "cell_type": "code",
   "execution_count": null,
   "metadata": {},
   "outputs": [],
   "source": [
    "# так как p(A1A2) = p(A1) x p(A2), значит, события А1 и А2 независимы. То же можем доказать для пары А1 и А3 и пары А2 и А3.\n",
    "# докажем, что все три события вместе не являются независимыми"
   ]
  },
  {
   "cell_type": "code",
   "execution_count": 24,
   "metadata": {},
   "outputs": [
    {
     "data": {
      "text/plain": [
       "0.125"
      ]
     },
     "execution_count": 24,
     "metadata": {},
     "output_type": "execute_result"
    }
   ],
   "source": [
    "# вероятность события и А1, и А2, и А3 как произведение вероятностей события\n",
    "pA1A2A3 = pA1 * pA2 * pA3\n",
    "pA1A2A3"
   ]
  },
  {
   "cell_type": "code",
   "execution_count": 25,
   "metadata": {},
   "outputs": [
    {
     "data": {
      "text/plain": [
       "0.25"
      ]
     },
     "execution_count": 25,
     "metadata": {},
     "output_type": "execute_result"
    }
   ],
   "source": [
    "# вероятность события и А1, и А2 как частное от деления успехова на количество возможных исходов\n",
    "pA1A2A3_2 = (2)/(8)\n",
    "pA1A2A3_2"
   ]
  },
  {
   "cell_type": "code",
   "execution_count": null,
   "metadata": {},
   "outputs": [],
   "source": [
    "# так как p(A1A2A3) != p(A1) x p(A2) x p(A3), значит, события А1, А2 и А3  не независимы."
   ]
  },
  {
   "cell_type": "markdown",
   "metadata": {},
   "source": [
    "**Задание 4 (формула полной вероятности)**\n",
    "\n",
    "В магазин привезли устройства с 3-х разных предприятий. Соотношение устройств следующее: 20% - продукция первого предприятия, 30% - продукция второго предприятия, 50% - продукция третьего предприятия; далее, 10% продукции первого предприятия высшего сорта, на втором предприятии - 5% и на третьем - 20% продукции высшего сорта. Найти вероятность того, что случайно купленная новая продукция окажется высшего сорта."
   ]
  },
  {
   "cell_type": "code",
   "execution_count": 26,
   "metadata": {},
   "outputs": [
    {
     "name": "stdout",
     "output_type": "stream",
     "text": [
      "Вероятность того, что случайно купленная новая продукция окажется высшего сорта, равна 0.135\n"
     ]
    }
   ],
   "source": [
    "p_high = 0.2 * 0.1 + 0.3 * 0.05 + 0.5 * 0.2\n",
    "print('Вероятность того, что случайно купленная новая продукция окажется высшего сорта, равна', '{:.3f}'.format(p_high))"
   ]
  },
  {
   "cell_type": "code",
   "execution_count": null,
   "metadata": {},
   "outputs": [],
   "source": []
  }
 ],
 "metadata": {
  "kernelspec": {
   "display_name": "Python 3",
   "language": "python",
   "name": "python3"
  },
  "language_info": {
   "codemirror_mode": {
    "name": "ipython",
    "version": 3
   },
   "file_extension": ".py",
   "mimetype": "text/x-python",
   "name": "python",
   "nbconvert_exporter": "python",
   "pygments_lexer": "ipython3",
   "version": "3.7.4"
  }
 },
 "nbformat": 4,
 "nbformat_minor": 2
}
